{
 "cells": [
  {
   "cell_type": "code",
   "execution_count": 1,
   "id": "0761709e",
   "metadata": {},
   "outputs": [],
   "source": [
    "import cv2"
   ]
  },
  {
   "cell_type": "markdown",
   "id": "7da1ac52",
   "metadata": {},
   "source": [
    "Addition and Substraction"
   ]
  },
  {
   "cell_type": "code",
   "execution_count": 9,
   "id": "7b20ceae",
   "metadata": {},
   "outputs": [],
   "source": [
    "img1=cv2.imread(\"img1.jpg\")\n",
    "img2=cv2.imread(\"img3.jpg\")\n",
    "\n",
    "img1=cv2.resize(img1,(600,600))\n",
    "img2=cv2.resize(img2,(600,600))\n",
    "\n",
    "#new_img=cv2.addWeighted(img1, 0.7, img2, 1, 1)#add img\n",
    "new_img=cv2.subtract(img1, img2)#sub img\n",
    "\n",
    "cv2.imshow(\"meow\",new_img)\n",
    "cv2.waitKey(0)\n",
    "cv2.destroyAllWindows()"
   ]
  },
  {
   "cell_type": "markdown",
   "id": "8dcfd50c",
   "metadata": {},
   "source": [
    "Bitwise & Binary"
   ]
  },
  {
   "cell_type": "code",
   "execution_count": null,
   "id": "3f0b0e73",
   "metadata": {},
   "outputs": [],
   "source": [
    "Bitwise\n",
    ":AND,OR,NOT,...."
   ]
  },
  {
   "cell_type": "code",
   "execution_count": null,
   "id": "bd42eab2",
   "metadata": {},
   "outputs": [],
   "source": []
  },
  {
   "cell_type": "code",
   "execution_count": null,
   "id": "70780fd6",
   "metadata": {},
   "outputs": [],
   "source": []
  },
  {
   "cell_type": "code",
   "execution_count": null,
   "id": "684855d0",
   "metadata": {},
   "outputs": [],
   "source": []
  },
  {
   "cell_type": "code",
   "execution_count": null,
   "id": "10aa8b80",
   "metadata": {},
   "outputs": [],
   "source": []
  },
  {
   "cell_type": "code",
   "execution_count": null,
   "id": "a0e3b2fd",
   "metadata": {},
   "outputs": [],
   "source": []
  },
  {
   "cell_type": "code",
   "execution_count": null,
   "id": "b320b87d",
   "metadata": {},
   "outputs": [],
   "source": []
  }
 ],
 "metadata": {
  "kernelspec": {
   "display_name": "Python 3 (ipykernel)",
   "language": "python",
   "name": "python3"
  },
  "language_info": {
   "codemirror_mode": {
    "name": "ipython",
    "version": 3
   },
   "file_extension": ".py",
   "mimetype": "text/x-python",
   "name": "python",
   "nbconvert_exporter": "python",
   "pygments_lexer": "ipython3",
   "version": "3.11.5"
  }
 },
 "nbformat": 4,
 "nbformat_minor": 5
}
