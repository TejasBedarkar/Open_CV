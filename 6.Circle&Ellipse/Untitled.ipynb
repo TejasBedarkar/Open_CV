{
 "cells": [
  {
   "cell_type": "code",
   "execution_count": 1,
   "id": "69b25a88",
   "metadata": {},
   "outputs": [],
   "source": [
    "import cv2"
   ]
  },
  {
   "cell_type": "code",
   "execution_count": 2,
   "id": "924a1b1b",
   "metadata": {},
   "outputs": [],
   "source": [
    "# identify somebody's face shape"
   ]
  },
  {
   "cell_type": "code",
   "execution_count": 13,
   "id": "8f82865a",
   "metadata": {},
   "outputs": [],
   "source": [
    "old_img=cv2.imread(\"img1.jpg\")\n",
    "old_img=cv2.resize(old_img,(600,500))\n",
    "\n",
    "\n",
    "new_img=cv2.circle(img=old_img,center=(450,200),radius=100,color=(0,255,0),thickness=2,lineType=16)#agar complete fill karna hai toh thickness ka value -1 dena padega\n",
    "\n",
    "\n",
    "cv2.imshow(\"meow\",new_img)\n",
    "cv2.waitKey(0)\n",
    "cv2.destroyAllWindows()"
   ]
  },
  {
   "cell_type": "markdown",
   "id": "ff3c09d1",
   "metadata": {},
   "source": [
    "ELLIPSSE"
   ]
  },
  {
   "cell_type": "code",
   "execution_count": 16,
   "id": "a056638e",
   "metadata": {},
   "outputs": [],
   "source": [
    "old_img=cv2.imread(\"img1.jpg\")\n",
    "old_img=cv2.resize(old_img,(600,500))\n",
    "\n",
    "txt_img=cv2.putText(img=old_img, text=\"meow\", org=(400,160), fontFace=2, fontScale=4, \n",
    "                    color=(0,0,255), thickness=2, lineType=16, bottomLeftOrigin=False)\n",
    "\n",
    "new_img=cv2.ellipse(img=txt_img,center=(450,200),axes=(50,100),angle=30,startAngle=0,endAngle=360,\n",
    "                    color=(0,255,0),thickness=2,lineType=16)#agar complete fill karna hai toh thickness ka value -1 dena padega\n",
    "\n",
    "\n",
    "cv2.imshow(\"meow\",new_img)\n",
    "cv2.waitKey(0)\n",
    "cv2.destroyAllWindows()"
   ]
  },
  {
   "cell_type": "markdown",
   "id": "b8c7b4d8",
   "metadata": {},
   "source": [
    "Polygons"
   ]
  },
  {
   "cell_type": "code",
   "execution_count": 17,
   "id": "749050df",
   "metadata": {},
   "outputs": [],
   "source": [
    "import numpy as np"
   ]
  },
  {
   "cell_type": "code",
   "execution_count": 19,
   "id": "1b940213",
   "metadata": {},
   "outputs": [],
   "source": [
    "old_img=cv2.imread(\"img1.jpg\")\n",
    "old_img=cv2.resize(old_img,(600,500))\n",
    "\n",
    "\n",
    "new_img=cv2.polylines(img=old_img, pts=[np.array([[120,450],[175,325],[300,400],[300,600],[150,600]])], isClosed=True, \n",
    "                      color=(0,255,0), thickness=4, lineType=16)\n",
    "\n",
    "cv2.imshow(\"meow\",new_img)\n",
    "cv2.waitKey(0)\n",
    "cv2.destroyAllWindows()"
   ]
  }
 ],
 "metadata": {
  "kernelspec": {
   "display_name": "Python 3 (ipykernel)",
   "language": "python",
   "name": "python3"
  },
  "language_info": {
   "codemirror_mode": {
    "name": "ipython",
    "version": 3
   },
   "file_extension": ".py",
   "mimetype": "text/x-python",
   "name": "python",
   "nbconvert_exporter": "python",
   "pygments_lexer": "ipython3",
   "version": "3.11.5"
  }
 },
 "nbformat": 4,
 "nbformat_minor": 5
}
