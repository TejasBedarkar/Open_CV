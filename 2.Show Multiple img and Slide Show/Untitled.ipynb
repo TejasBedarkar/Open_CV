{
 "cells": [
  {
   "cell_type": "code",
   "execution_count": 2,
   "id": "44f34c18",
   "metadata": {},
   "outputs": [],
   "source": [
    "import cv2\n",
    "import numpy as np"
   ]
  },
  {
   "cell_type": "code",
   "execution_count": 4,
   "id": "0990898b",
   "metadata": {},
   "outputs": [],
   "source": [
    "img=cv2.imread(r\"C:\\Users\\Asus\\openCV\\Show Multiple img and Slide Show\\img3.jpg\")\n",
    "cv2.imshow(\"MEOW\",img)\n",
    "cv2.waitKey(0)\n",
    "cv2.destroyAllWindows()"
   ]
  },
  {
   "cell_type": "markdown",
   "id": "dfa463aa",
   "metadata": {},
   "source": [
    "RESIZE THE IMG"
   ]
  },
  {
   "cell_type": "code",
   "execution_count": 9,
   "id": "c6e165f1",
   "metadata": {},
   "outputs": [],
   "source": [
    "img=cv2.imread(r\"C:\\Users\\Asus\\openCV\\Show Multiple img and Slide Show\\img3.jpg\")\n",
    "re_img=cv2.resize(img,(900,800))\n",
    "cv2.imshow(\"MEOW\",re_img)\n",
    "cv2.waitKey(0)\n",
    "cv2.destroyAllWindows()"
   ]
  },
  {
   "cell_type": "code",
   "execution_count": 10,
   "id": "9e7c360f",
   "metadata": {},
   "outputs": [
    {
     "data": {
      "text/plain": [
       "array([[1, 2, 1, 2],\n",
       "       [1, 2, 1, 2]])"
      ]
     },
     "execution_count": 10,
     "metadata": {},
     "output_type": "execute_result"
    }
   ],
   "source": [
    "v=np.array([[1,2,1,2],[1,2,1,2]])\n",
    "v"
   ]
  },
  {
   "cell_type": "code",
   "execution_count": 11,
   "id": "93e2d673",
   "metadata": {
    "scrolled": false
   },
   "outputs": [
    {
     "name": "stdout",
     "output_type": "stream",
     "text": [
      "[[[132 111 136]\n",
      "  [133 112 137]\n",
      "  [133 113 136]\n",
      "  ...\n",
      "  [185 167 150]\n",
      "  [186 168 151]\n",
      "  [187 169 152]]\n",
      "\n",
      " [[132 111 136]\n",
      "  [133 112 137]\n",
      "  [133 113 136]\n",
      "  ...\n",
      "  [185 167 150]\n",
      "  [186 168 151]\n",
      "  [187 169 152]]\n",
      "\n",
      " [[133 113 136]\n",
      "  [133 113 136]\n",
      "  [134 114 137]\n",
      "  ...\n",
      "  [186 168 151]\n",
      "  [187 169 152]\n",
      "  [189 171 154]]\n",
      "\n",
      " ...\n",
      "\n",
      " [[112  96  80]\n",
      "  [111  95  79]\n",
      "  [110  94  78]\n",
      "  ...\n",
      "  [ 78  63  54]\n",
      "  [ 83  68  59]\n",
      "  [ 87  72  63]]\n",
      "\n",
      " [[112  96  80]\n",
      "  [111  95  79]\n",
      "  [110  94  78]\n",
      "  ...\n",
      "  [ 95  78  69]\n",
      "  [ 88  71  62]\n",
      "  [ 81  64  55]]\n",
      "\n",
      " [[112  96  80]\n",
      "  [111  95  79]\n",
      "  [110  94  78]\n",
      "  ...\n",
      "  [ 83  66  57]\n",
      "  [ 79  62  53]\n",
      "  [ 90  73  64]]]\n"
     ]
    }
   ],
   "source": [
    "img=cv2.imread(r\"C:\\Users\\Asus\\openCV\\Show Multiple img and Slide Show\\img3.jpg\")\n",
    "print(img)# poore img ke pixels milenge"
   ]
  },
  {
   "cell_type": "code",
   "execution_count": 16,
   "id": "f327d011",
   "metadata": {},
   "outputs": [],
   "source": [
    "img=cv2.imread(r\"C:\\Users\\Asus\\openCV\\Show Multiple img and Slide Show\\img1.jpg\")\n",
    "re_img=cv2.resize(img,(900,800))\n",
    "#h=np.hstack((re_img,re_img)) # horizontal\n",
    "v=np.vstack((re_img,re_img))# do bar Re_img lia hai so 2 baar hii aayega\n",
    "cv2.imshow(\"MEOW\",v)\n",
    "cv2.waitKey(0)\n",
    "cv2.destroyAllWindows()"
   ]
  },
  {
   "cell_type": "code",
   "execution_count": 21,
   "id": "11ffea1a",
   "metadata": {},
   "outputs": [],
   "source": [
    "# hor. andver. dono ko mergee karna hai then\n",
    "img=cv2.imread(r\"C:\\Users\\Asus\\openCV\\Show Multiple img and Slide Show\\img1.jpg\")\n",
    "re_img=cv2.resize(img,(300,300))\n",
    "h=np.hstack((re_img,re_img)) # horizontal\n",
    "v=np.vstack((h,h,h))\n",
    "cv2.imshow(\"MEOW\",v)\n",
    "cv2.waitKey(0)\n",
    "cv2.destroyAllWindows()"
   ]
  },
  {
   "cell_type": "markdown",
   "id": "dbed4dce",
   "metadata": {},
   "source": [
    "SLIDESHOW"
   ]
  },
  {
   "cell_type": "code",
   "execution_count": 22,
   "id": "f39df8e9",
   "metadata": {},
   "outputs": [],
   "source": [
    "import os\n",
    "# For slideshow ek seperate folder ko banana hoga "
   ]
  },
  {
   "cell_type": "code",
   "execution_count": 23,
   "id": "1a03f275",
   "metadata": {},
   "outputs": [
    {
     "data": {
      "text/plain": [
       "['img1.jpg', 'img2.jpg', 'img3.jpg']"
      ]
     },
     "execution_count": 23,
     "metadata": {},
     "output_type": "execute_result"
    }
   ],
   "source": [
    "list_name=os.listdir(r\"C:\\Users\\Asus\\openCV\\Show Multiple img and Slide Show\\Slide show\")\n",
    "list_name"
   ]
  },
  {
   "cell_type": "code",
   "execution_count": 26,
   "id": "88f929ff",
   "metadata": {},
   "outputs": [],
   "source": [
    "for name in list_name:\n",
    "    path='C:\\\\Users\\\\Asus\\\\openCV\\\\Show Multiple img and Slide Show\\\\Slide show'\n",
    "    img_name=path+\"\\\\\"+name\n",
    "    img=cv2.imread(img_name)\n",
    "    img=cv2.resize(img,(500,600))\n",
    "    cv2.imshow(\"MEOW\",img)\n",
    "    cv2.waitKey(0)\n",
    "    \n",
    "cv2.destroyAllWindows()"
   ]
  },
  {
   "cell_type": "code",
   "execution_count": null,
   "id": "d2ebb0e4",
   "metadata": {},
   "outputs": [],
   "source": []
  },
  {
   "cell_type": "code",
   "execution_count": null,
   "id": "449e6b7d",
   "metadata": {},
   "outputs": [],
   "source": []
  },
  {
   "cell_type": "code",
   "execution_count": null,
   "id": "07b02599",
   "metadata": {},
   "outputs": [],
   "source": []
  },
  {
   "cell_type": "code",
   "execution_count": null,
   "id": "623ea75c",
   "metadata": {},
   "outputs": [],
   "source": []
  },
  {
   "cell_type": "code",
   "execution_count": null,
   "id": "4336dfc7",
   "metadata": {},
   "outputs": [],
   "source": []
  },
  {
   "cell_type": "code",
   "execution_count": null,
   "id": "081b6fb6",
   "metadata": {},
   "outputs": [],
   "source": []
  }
 ],
 "metadata": {
  "kernelspec": {
   "display_name": "Python 3 (ipykernel)",
   "language": "python",
   "name": "python3"
  },
  "language_info": {
   "codemirror_mode": {
    "name": "ipython",
    "version": 3
   },
   "file_extension": ".py",
   "mimetype": "text/x-python",
   "name": "python",
   "nbconvert_exporter": "python",
   "pygments_lexer": "ipython3",
   "version": "3.11.5"
  }
 },
 "nbformat": 4,
 "nbformat_minor": 5
}
