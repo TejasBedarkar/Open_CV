{
 "cells": [
  {
   "cell_type": "code",
   "execution_count": 1,
   "id": "1ec27c90",
   "metadata": {},
   "outputs": [],
   "source": [
    "import cv2"
   ]
  },
  {
   "cell_type": "code",
   "execution_count": 2,
   "id": "c2ff17af",
   "metadata": {},
   "outputs": [
    {
     "data": {
      "text/plain": [
       "<function destroyAllWindows>"
      ]
     },
     "execution_count": 2,
     "metadata": {},
     "output_type": "execute_result"
    }
   ],
   "source": [
    "img_get=cv2.imread(\"img2.jpg\")\n",
    "img_get=cv2.resize(img_get,(500,600))\n",
    "cv2.imshow(\"MEOW\",img_get)\n",
    "cv2.waitKey(0)\n",
    "cv2.destroyAllWindows"
   ]
  },
  {
   "cell_type": "code",
   "execution_count": 6,
   "id": "f7fb5618",
   "metadata": {},
   "outputs": [
    {
     "data": {
      "text/plain": [
       "<function destroyAllWindows>"
      ]
     },
     "execution_count": 6,
     "metadata": {},
     "output_type": "execute_result"
    }
   ],
   "source": [
    "img_get=cv2.imread(\"img2.jpg\")\n",
    "img_get=cv2.resize(img_get,(500,600))\n",
    "\n",
    "\n",
    "txt=cv2.putText(\n",
    "img=img_get,\n",
    "text=\"Cyberpunk\",\n",
    "org=(50,80) , #(x,y)\n",
    "fontFace=cv2.FONT_HERSHEY_DUPLEX,\n",
    "fontScale=3,\n",
    "color=(0,0,255),\n",
    "thickness=3,\n",
    "lineType=cv2.LINE_8,\n",
    "bottomLeftOrigin=False)\n",
    "\n",
    "\n",
    "cv2.imshow(\"MEOW\",txt)\n",
    "cv2.waitKey(0)\n",
    "cv2.destroyAllWindows"
   ]
  },
  {
   "cell_type": "markdown",
   "id": "8d536496",
   "metadata": {},
   "source": [
    "Mirror Image"
   ]
  },
  {
   "cell_type": "code",
   "execution_count": 9,
   "id": "06108222",
   "metadata": {},
   "outputs": [
    {
     "data": {
      "text/plain": [
       "<function destroyAllWindows>"
      ]
     },
     "execution_count": 9,
     "metadata": {},
     "output_type": "execute_result"
    }
   ],
   "source": [
    "img_get=cv2.imread(\"img2.jpg\")\n",
    "img_get=cv2.resize(img_get,(500,600))\n",
    "\n",
    "txt=cv2.putText(\n",
    "img=img_get,\n",
    "text=\"Cyberpunk\",\n",
    "org=(50,80) , #(x,y)\n",
    "fontFace=cv2.FONT_HERSHEY_DUPLEX,\n",
    "fontScale=3,\n",
    "color=(0,0,255),\n",
    "thickness=3,\n",
    "lineType=cv2.LINE_8,\n",
    "bottomLeftOrigin=False)\n",
    "\n",
    "\n",
    "txt=cv2.putText(\n",
    "img=txt,\n",
    "text=\"Cyberpunk\",\n",
    "org=(50,80) , #(x,y)\n",
    "fontFace=cv2.FONT_HERSHEY_DUPLEX,\n",
    "fontScale=3,\n",
    "color=(0,0,255),\n",
    "thickness=3,\n",
    "lineType=cv2.LINE_8,\n",
    "bottomLeftOrigin=True)\n",
    "\n",
    "\n",
    "cv2.imshow(\"MEOW\",txt)\n",
    "cv2.waitKey(0)\n",
    "cv2.destroyAllWindows"
   ]
  },
  {
   "cell_type": "code",
   "execution_count": null,
   "id": "9633a530",
   "metadata": {},
   "outputs": [],
   "source": []
  },
  {
   "cell_type": "code",
   "execution_count": null,
   "id": "f501f2fb",
   "metadata": {},
   "outputs": [],
   "source": []
  },
  {
   "cell_type": "code",
   "execution_count": null,
   "id": "9b70cb78",
   "metadata": {},
   "outputs": [],
   "source": []
  },
  {
   "cell_type": "code",
   "execution_count": null,
   "id": "708116ff",
   "metadata": {},
   "outputs": [],
   "source": []
  },
  {
   "cell_type": "code",
   "execution_count": null,
   "id": "eb477609",
   "metadata": {},
   "outputs": [],
   "source": []
  }
 ],
 "metadata": {
  "kernelspec": {
   "display_name": "Python 3 (ipykernel)",
   "language": "python",
   "name": "python3"
  },
  "language_info": {
   "codemirror_mode": {
    "name": "ipython",
    "version": 3
   },
   "file_extension": ".py",
   "mimetype": "text/x-python",
   "name": "python",
   "nbconvert_exporter": "python",
   "pygments_lexer": "ipython3",
   "version": "3.11.5"
  }
 },
 "nbformat": 4,
 "nbformat_minor": 5
}
