{
 "cells": [
  {
   "cell_type": "code",
   "execution_count": 6,
   "id": "b4ad74a9",
   "metadata": {},
   "outputs": [],
   "source": [
    "import cv2"
   ]
  },
  {
   "cell_type": "code",
   "execution_count": 7,
   "id": "5fc845b1",
   "metadata": {},
   "outputs": [],
   "source": [
    "img=cv2.imread(\"img2.jpg\")#image read\n",
    "cv2.imshow(\"MEOW\",img)#img show\n",
    "cv2.waitKey(0)  # img frame wait    time in ms\n",
    "cv2.destroyAllWindows()\n",
    "\n",
    "# cv2.destroyWindow()  # only one window"
   ]
  },
  {
   "cell_type": "code",
   "execution_count": null,
   "id": "063278ab",
   "metadata": {},
   "outputs": [],
   "source": [
    "Multiple Windows"
   ]
  },
  {
   "cell_type": "code",
   "execution_count": 8,
   "id": "90b93a58",
   "metadata": {},
   "outputs": [],
   "source": [
    "img=cv2.imread(\"img2.jpg\")#image read\n",
    "cv2.imshow(\"MEOW\",img)#img show\n",
    "cv2.imshow(\"MEOW1\",img)\n",
    "cv2.waitKey(0)  # img frame wait    time in ms\n",
    "cv2.destroyAllWindows()\n",
    "\n",
    "# cv2.destroyWindow()  # only one window"
   ]
  },
  {
   "cell_type": "code",
   "execution_count": null,
   "id": "752d3f90",
   "metadata": {},
   "outputs": [],
   "source": []
  },
  {
   "cell_type": "code",
   "execution_count": null,
   "id": "4949cfad",
   "metadata": {},
   "outputs": [],
   "source": []
  },
  {
   "cell_type": "code",
   "execution_count": null,
   "id": "557005c5",
   "metadata": {},
   "outputs": [],
   "source": []
  },
  {
   "cell_type": "code",
   "execution_count": null,
   "id": "0ad40764",
   "metadata": {},
   "outputs": [],
   "source": []
  },
  {
   "cell_type": "code",
   "execution_count": null,
   "id": "0d6ada55",
   "metadata": {},
   "outputs": [],
   "source": []
  },
  {
   "cell_type": "code",
   "execution_count": null,
   "id": "90f83944",
   "metadata": {},
   "outputs": [],
   "source": []
  },
  {
   "cell_type": "code",
   "execution_count": null,
   "id": "84058881",
   "metadata": {},
   "outputs": [],
   "source": []
  }
 ],
 "metadata": {
  "kernelspec": {
   "display_name": "Python 3 (ipykernel)",
   "language": "python",
   "name": "python3"
  },
  "language_info": {
   "codemirror_mode": {
    "name": "ipython",
    "version": 3
   },
   "file_extension": ".py",
   "mimetype": "text/x-python",
   "name": "python",
   "nbconvert_exporter": "python",
   "pygments_lexer": "ipython3",
   "version": "3.11.5"
  }
 },
 "nbformat": 4,
 "nbformat_minor": 5
}
