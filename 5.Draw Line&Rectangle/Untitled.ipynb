{
 "cells": [
  {
   "cell_type": "code",
   "execution_count": 1,
   "id": "dbae3b8c",
   "metadata": {},
   "outputs": [],
   "source": [
    "import cv2"
   ]
  },
  {
   "cell_type": "code",
   "execution_count": 3,
   "id": "85f1f63d",
   "metadata": {},
   "outputs": [],
   "source": [
    "old_img=cv2.imread(\"img.jpg\")\n",
    "old_img=cv2.resize(old_img,(700,600))\n",
    "\n",
    "cv2.imshow(\"Meow\",old_img)\n",
    "cv2.waitKey(0)\n",
    "cv2.destroyAllWindows()"
   ]
  },
  {
   "cell_type": "markdown",
   "id": "6d5c8639",
   "metadata": {},
   "source": [
    "LiNe"
   ]
  },
  {
   "cell_type": "code",
   "execution_count": 5,
   "id": "e92774e2",
   "metadata": {},
   "outputs": [],
   "source": [
    "old_img=cv2.imread(\"img.jpg\")\n",
    "old_img=cv2.resize(old_img,(700,600))\n",
    "\n",
    "new_img=cv2.line(img=old_img,pt1=(200,80),pt2=(300,80),color=(0,255,0),thickness=4,lineType=4)\n",
    "\n",
    "cv2.imshow(\"Meow\",new_img)\n",
    "cv2.waitKey(0)\n",
    "cv2.destroyAllWindows()"
   ]
  },
  {
   "cell_type": "markdown",
   "id": "9942864b",
   "metadata": {},
   "source": [
    "RectAngle"
   ]
  },
  {
   "cell_type": "code",
   "execution_count": 13,
   "id": "87fab846",
   "metadata": {},
   "outputs": [],
   "source": [
    "old_img=cv2.imread(\"img.jpg\")\n",
    "old_img=cv2.resize(old_img,(700,600))\n",
    "\n",
    "txt=cv2.putText(img=old_img,text=\"meow\",org=(100,30),fontFace=2,fontScale=2,color=(0,255,0),thickness=2,lineType=16,\n",
    "                                           bottomLeftOrigin=False)\n",
    "\n",
    "new_img1=cv2.rectangle(img=txt,pt1=(200,80),pt2=(400,350),color=(0,255,0),thickness=4,lineType=16)\n",
    "\n",
    "cv2.imshow(\"Meow\",new_img1)\n",
    "cv2.waitKey(0)\n",
    "cv2.destroyAllWindows()"
   ]
  },
  {
   "cell_type": "code",
   "execution_count": null,
   "id": "b8e19ce0",
   "metadata": {},
   "outputs": [],
   "source": []
  }
 ],
 "metadata": {
  "kernelspec": {
   "display_name": "Python 3 (ipykernel)",
   "language": "python",
   "name": "python3"
  },
  "language_info": {
   "codemirror_mode": {
    "name": "ipython",
    "version": 3
   },
   "file_extension": ".py",
   "mimetype": "text/x-python",
   "name": "python",
   "nbconvert_exporter": "python",
   "pygments_lexer": "ipython3",
   "version": "3.11.5"
  }
 },
 "nbformat": 4,
 "nbformat_minor": 5
}
